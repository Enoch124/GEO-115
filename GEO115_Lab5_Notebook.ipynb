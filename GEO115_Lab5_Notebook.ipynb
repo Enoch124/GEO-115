{
 "cells": [
  {
   "cell_type": "code",
   "execution_count": 25,
   "metadata": {},
   "outputs": [],
   "source": [
    "import arcpy"
   ]
  },
  {
   "cell_type": "code",
   "execution_count": 26,
   "metadata": {},
   "outputs": [],
   "source": [
    "# set the workspace\n",
    "arcpy.env.workspace = \"C:/Users/enoch/Downloads/ecozone_shp/Ecozones/ecozones.shp\""
   ]
  },
  {
   "cell_type": "code",
   "execution_count": 28,
   "metadata": {
    "scrolled": true
   },
   "outputs": [],
   "source": [
    "# List the fields in the ecozone shapefile\n",
    "fields = arcpy.ListFields(\"C:/Users/enoch/Downloads/ecozone_shp/Ecozones/ecozones.shp\")"
   ]
  },
  {
   "cell_type": "code",
   "execution_count": 61,
   "metadata": {},
   "outputs": [
    {
     "name": "stdout",
     "output_type": "stream",
     "text": [
      "Field Names: ['FID', 'Shape', 'AREA', 'PERIMETER', 'ZONE_', 'ZONE_ID', 'ECOZONE', 'ZONE_NAME', 'ZONE_NOM']\n"
     ]
    }
   ],
   "source": [
    "# Print the field names\n",
    "field_names = [field.name for field in fields]\n",
    "print(\"Field Names:\", field_names)"
   ]
  },
  {
   "cell_type": "code",
   "execution_count": 62,
   "metadata": {},
   "outputs": [],
   "source": [
    "# Path to your ecozones shapefile\n",
    "shapefile_path = \"C:/Users/enoch/Downloads/ecozone_shp/Ecozones/ecozones.shp\""
   ]
  },
  {
   "cell_type": "code",
   "execution_count": 63,
   "metadata": {},
   "outputs": [],
   "source": [
    "# Initialize an empty dictionary \n",
    "ecozones = {}"
   ]
  },
  {
   "cell_type": "code",
   "execution_count": 64,
   "metadata": {},
   "outputs": [],
   "source": [
    "# Read the attribute table and extract relevant fields\n",
    "with arcpy.da.SearchCursor(shapefile_path, [\"ZONE_NAME\", \"ZONE_ID\" ,\"AREA\"]) as cursor:\n",
    "    for row in cursor:\n",
    "        zone_name, zone_id, area = row\n",
    "        ecozones [zone_name] = {\"ZONE_ID\": zone_id, \"AREA\": area}"
   ]
  },
  {
   "cell_type": "code",
   "execution_count": 65,
   "metadata": {},
   "outputs": [
    {
     "name": "stdout",
     "output_type": "stream",
     "text": [
      "{'Northern Arctic': {'ZONE_ID': 1.0, 'AREA': 756.53904}, 'Arctic Cordillera': {'ZONE_ID': 14.0, 'AREA': 7.53393}, 'Southern Arctic': {'ZONE_ID': 6.0, 'AREA': 300.76926}, 'Taiga Cordillera': {'ZONE_ID': 7.0, 'AREA': 50.9788}, 'Taiga Plain': {'ZONE_ID': 8.0, 'AREA': 118.55647}, 'Taiga Shield': {'ZONE_ID': 17.0, 'AREA': 115.4562}, 'Boreal Cordillera': {'ZONE_ID': 9.0, 'AREA': 77.11269}, 'Boreal PLain': {'ZONE_ID': 22.0, 'AREA': 0.20939}, 'Pacific Maritime': {'ZONE_ID': 18.0, 'AREA': 1.97253}, 'Boreal Shield': {'ZONE_ID': 19.0, 'AREA': 267.9649}, 'Hudson Plain': {'ZONE_ID': 20.0, 'AREA': 61.35808}, 'Montane Cordillera': {'ZONE_ID': 15.0, 'AREA': 65.38689}, 'Prairie': {'ZONE_ID': 21.0, 'AREA': 59.71671}, 'Atlantic Maritime': {'ZONE_ID': 24.0, 'AREA': 0.14229}, 'MixedWood Plain': {'ZONE_ID': 25.0, 'AREA': 19.139}}\n"
     ]
    }
   ],
   "source": [
    "# Now 'ecozones' contains the desired information\n",
    "print(ecozones)"
   ]
  },
  {
   "cell_type": "markdown",
   "metadata": {},
   "source": [
    "Task 3"
   ]
  },
  {
   "cell_type": "code",
   "execution_count": 66,
   "metadata": {},
   "outputs": [],
   "source": [
    "# Set the workspace\n",
    "arcpy.env.workspace = \"C:/Users/enoch/Downloads/ecozone_shp/Ecozones/ecozones.shp\""
   ]
  },
  {
   "cell_type": "code",
   "execution_count": 67,
   "metadata": {},
   "outputs": [],
   "source": [
    "# Specify the ZONE_ID to create a buffer for \n",
    "zone_id = 2"
   ]
  },
  {
   "cell_type": "code",
   "execution_count": 68,
   "metadata": {},
   "outputs": [
    {
     "data": {
      "text/html": [
       "<div class='gpresult'><h2>Messages</h2><div id='messages'>Start Time: September 24, 2024 6:48:17 PM<br>Succeeded at September 24, 2024 6:48:17 PM (Elapsed Time: 0.11 seconds)<br></div><div id = 'default' /></div></div>"
      ],
      "text/plain": [
       "<Result 'zone_layer'>"
      ]
     },
     "execution_count": 68,
     "metadata": {},
     "output_type": "execute_result"
    }
   ],
   "source": [
    "# Create a feature layer for the specific ZONE_ID\n",
    "arcpy.MakeFeatureLayer_management(\"C:/Users/enoch/Downloads/ecozone_shp/Ecozones/ecozones.shp\", \"zone_layer\", f\"ZONE_ID = {zone_id}\")"
   ]
  },
  {
   "cell_type": "code",
   "execution_count": 69,
   "metadata": {},
   "outputs": [
    {
     "data": {
      "text/html": [
       "<div class='gpresult'><h2>Messages</h2><div id='messages'>Start Time: September 24, 2024 6:48:19 PM<br>Succeeded at September 24, 2024 6:48:21 PM (Elapsed Time: 2.18 seconds)<br></div><div id = 'default' /></div></div>"
      ],
      "text/plain": [
       "<Result 'C:\\\\Users\\\\enoch\\\\Downloads\\\\ecozone_shp\\\\Ecozones\\\\ecozones_buffer.shp'>"
      ]
     },
     "execution_count": 69,
     "metadata": {},
     "output_type": "execute_result"
    }
   ],
   "source": [
    "# Perform buffer analysis on the selected polygon\n",
    "output_fc = \"C:/Users/enoch/Downloads/ecozone_shp/Ecozones/ecozones_buffer.shp\"\n",
    "arcpy.Buffer_analysis(\"zone_layer\", output_fc, \"100 Kilometers\")"
   ]
  },
  {
   "cell_type": "code",
   "execution_count": 70,
   "metadata": {},
   "outputs": [
    {
     "name": "stdout",
     "output_type": "stream",
     "text": [
      "Buffer analysis complete. Output saved as C:/Users/enoch/Downloads/ecozone_shp/Ecozones/ecozones_buffer.shp\n"
     ]
    }
   ],
   "source": [
    "print(f\"Buffer analysis complete. Output saved as {output_fc}\")"
   ]
  },
  {
   "cell_type": "markdown",
   "metadata": {},
   "source": [
    "Task 4"
   ]
  },
  {
   "cell_type": "code",
   "execution_count": 71,
   "metadata": {},
   "outputs": [],
   "source": [
    "# Set the workspace\n",
    "arcpy.env.workspace = \"C:/Users/enoch/Downloads/ecozone_shp/Ecozones/ecozones.shp\""
   ]
  },
  {
   "cell_type": "code",
   "execution_count": 72,
   "metadata": {},
   "outputs": [
    {
     "data": {
      "text/html": [
       "<div class='gpresult'><h2>Messages</h2><div id='messages'>Start Time: September 24, 2024 6:48:24 PM<br>WARNING 000012: STUDENT_NM already exists<br>Succeeded at September 24, 2024 6:48:24 PM (Elapsed Time: 0.29 seconds)<br></div><div id = 'default' /></div></div>"
      ],
      "text/plain": [
       "<Result 'C:/Users/enoch/Downloads/ecozone_shp/Ecozones/ecozones.shp'>"
      ]
     },
     "execution_count": 72,
     "metadata": {},
     "output_type": "execute_result"
    }
   ],
   "source": [
    "# Add a new field to the ecozone feature class\n",
    "input_fc = \"C:/Users/enoch/Downloads/ecozone_shp/Ecozones/ecozones.shp\"\n",
    "new_field_name = \"STUDENT_NM\"\n",
    "arcpy.AddField_management(input_fc, new_field_name, \"TEXT\")"
   ]
  },
  {
   "cell_type": "code",
   "execution_count": 73,
   "metadata": {},
   "outputs": [],
   "source": [
    "# Populate the new field with the student's full name\n",
    "student_name = \"Kayode Thomas Enoch\" \n",
    "with arcpy.da.UpdateCursor(input_fc, [new_field_name]) as cursor:\n",
    "    for row in cursor:\n",
    "        row[0] = student_name\n",
    "        cursor.updateRow(row)\n"
   ]
  },
  {
   "cell_type": "code",
   "execution_count": 59,
   "metadata": {},
   "outputs": [
    {
     "name": "stdout",
     "output_type": "stream",
     "text": [
      "Field 'STUDENT_NM' added and populated with Kayode Thomas Enoch in C:/Users/enoch/Downloads/ecozone_shp/Ecozones/ecozones.shp\n"
     ]
    }
   ],
   "source": [
    "# Print a message indicating the field has been added and populated\n",
    "print(f\"Field '{new_field_name}' added and populated with {student_name} in {input_fc}\")\n",
    "\n"
   ]
  },
  {
   "cell_type": "code",
   "execution_count": null,
   "metadata": {},
   "outputs": [],
   "source": []
  }
 ],
 "metadata": {
  "kernelspec": {
   "display_name": "ArcGISPro",
   "language": "Python",
   "name": "python3"
  },
  "language_info": {
   "file_extension": ".py",
   "name": "python",
   "version": "3"
  }
 },
 "nbformat": 4,
 "nbformat_minor": 2
}
